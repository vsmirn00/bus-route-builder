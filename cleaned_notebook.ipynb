{
 "cells": [
  {
   "cell_type": "code",
   "execution_count": 1,
   "metadata": {},
   "outputs": [],
   "source": [
    "import pandas as pd\n",
    "import numpy as np \n",
    "import matplotlib.pyplot as plt\n",
    "\n",
    "from shapely.geometry import LineString, MultiPolygon, Polygon\n",
    "from shapely.ops import split\n",
    "from shapely.affinity import translate\n",
    "import geopandas as gpd\n",
    "from shapely.geometry import Point\n",
    "import folium\n",
    "\n",
    "import io\n",
    "from PIL import Image\n",
    "\n",
    "\n",
    "from app.utils.geodata_functions import extract_coordinates, get_longitude_latitude\n",
    "from app.model.service import ModelService\n",
    "from app.optimizer.optimizer import ant_colony_optimization\n",
    "from app.visualizer.plots import plot_on_map"
   ]
  },
  {
   "cell_type": "code",
   "execution_count": 2,
   "metadata": {},
   "outputs": [],
   "source": [
    "russian_cities = gpd.read_file(\"data/russia_cities.geojson\")\n",
    "russian_cities['coordinates'] = russian_cities['geometry'].apply(extract_coordinates)\n",
    "russian_cities = get_longitude_latitude(russian_cities)"
   ]
  },
  {
   "cell_type": "code",
   "execution_count": 3,
   "metadata": {},
   "outputs": [],
   "source": [
    "# Drop coordinates\n",
    "russian_cities = russian_cities.drop(columns=\"coordinates\")"
   ]
  },
  {
   "cell_type": "code",
   "execution_count": 4,
   "metadata": {},
   "outputs": [],
   "source": [
    "ms = ModelService(russian_cities, k=13)\n",
    "centers = ms.centers()\n",
    "df = ms.df()"
   ]
  },
  {
   "cell_type": "code",
   "execution_count": 7,
   "metadata": {},
   "outputs": [],
   "source": [
    "# This should be executed by a different worker\n",
    "location = (np.mean([center[0] for center in centers]), np.mean([center[1] for center in centers]))\n",
    "result = ant_colony_optimization(centers, n_ants=10, n_iterations=1000, alpha=1, beta=1, evaporation_rate=0.5, Q=1)"
   ]
  },
  {
   "cell_type": "markdown",
   "metadata": {},
   "source": [
    "Render"
   ]
  },
  {
   "cell_type": "code",
   "execution_count": 14,
   "metadata": {},
   "outputs": [],
   "source": [
    "result_map = plot_on_map(df, centers=centers, best_path=result[0], zoom_start=3, location=location)\n",
    "img_data = result_map._to_png(1)\n",
    "img = Image.open(io.BytesIO(img_data))\n",
    "img.save('image.png')"
   ]
  },
  {
   "cell_type": "code",
   "execution_count": 4,
   "metadata": {},
   "outputs": [
    {
     "name": "stdout",
     "output_type": "stream",
     "text": [
      "Updating dependencies\n",
      "Resolving dependencies...\n"
     ]
    }
   ],
   "source": [
    "!poetry lock"
   ]
  },
  {
   "cell_type": "code",
   "execution_count": 5,
   "metadata": {},
   "outputs": [
    {
     "name": "stderr",
     "output_type": "stream",
     "text": [
      "Warning: poetry-plugin-export will not be installed by default in a future version of Poetry.\n",
      "In order to avoid a breaking change and make your automation forward-compatible, please install poetry-plugin-export explicitly. See https://python-poetry.org/docs/plugins/#using-plugins for details on how to install a plugin.\n",
      "To disable this warning run 'poetry config warnings.export false'.\n"
     ]
    }
   ],
   "source": [
    "!poetry export --without-hashes --format=requirements.txt > requirements.txt"
   ]
  },
  {
   "cell_type": "code",
   "execution_count": 6,
   "metadata": {},
   "outputs": [
    {
     "name": "stdout",
     "output_type": "stream",
     "text": [
      "The following packages are already present in the pyproject.toml and will be skipped:\n",
      "\n",
      "  - fastapi\n",
      "\n",
      "If you want to update it to the latest compatible version, you can use `poetry update package`.\n",
      "If you prefer to upgrade it to the latest available version, you can use `poetry add package@latest`.\n",
      "\n",
      "Nothing to add.\n"
     ]
    }
   ],
   "source": [
    "!poetry add fastapi"
   ]
  },
  {
   "cell_type": "code",
   "execution_count": null,
   "metadata": {},
   "outputs": [],
   "source": []
  }
 ],
 "metadata": {
  "kernelspec": {
   "display_name": "final_project_logistics-SBYEfYrS-py3.10",
   "language": "python",
   "name": "python3"
  },
  "language_info": {
   "codemirror_mode": {
    "name": "ipython",
    "version": 3
   },
   "file_extension": ".py",
   "mimetype": "text/x-python",
   "name": "python",
   "nbconvert_exporter": "python",
   "pygments_lexer": "ipython3",
   "version": "3.10.1"
  }
 },
 "nbformat": 4,
 "nbformat_minor": 2
}
